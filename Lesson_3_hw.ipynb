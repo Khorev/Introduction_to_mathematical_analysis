{
 "cells": [
  {
   "cell_type": "markdown",
   "id": "a90df90d",
   "metadata": {},
   "source": [
    "1.Пусть $xn = n^(−1)^n$. Доказать, что последовательность {xn}: \n",
    "\n",
    "а) неограниченная;\n",
    "\n",
    "при n=1 xn=1 \n",
    "\n",
    "при n=2 xn=2\n",
    "\n",
    "при n=3 xn=0.3\n",
    "\n",
    "при n=-1 xn=-1\n",
    "\n",
    "при n=-2 xn=-0.5\n",
    "\n",
    "последовательность неограниченная \n",
    "\n",
    "б) не является бесконечно большой."
   ]
  },
  {
   "cell_type": "markdown",
   "id": "c6b5efdc",
   "metadata": {},
   "source": [
    "2. Доказать, что последовательность {sin n} расходится.\n",
    " метод от противного:\n",
    " \n",
    " предположим lim n→∞ {sin n} =  lim n→∞ (sin(n+1)-sin(n-1))=0\n",
    " \n",
    " при sin(a)-sin(b)=2cos((a+b)/2)*sin((a-b)/2)=0\n",
    " \n",
    " 2cos(n)sin(1)=0\n",
    " \n",
    " cos(n)=0\n",
    " \n",
    " sin(2n)=0\n",
    " \n",
    " но из $cos^2(n)$+ $sin^2(n)$=1 и cos(n)→0  sin(n)→1 что противоречит первонач предп."
   ]
  },
  {
   "cell_type": "markdown",
   "id": "ee9420c1",
   "metadata": {},
   "source": [
    "3. Найти пределы:\n",
    "\n",
    "а) $lim n→∞10n/(n^2+1) = (10n/n^2) / 1/(1/n^2)=0/(1+0)=0$\n",
    "\n",
    "б) $lim n→∞(n^2−n) / (n−√n)  = (1-n/n^2) / (n/n^2-√n/n^2)= 1/0 = ∞$\n",
    "\n",
    "в) $lim n→∞5·3^n / (3^n−2) = 5 limn→∞ (3^n/3^n) / ((3^n/3^n) - (2/3^n)) = 5*1/0=0$"
   ]
  },
  {
   "cell_type": "markdown",
   "id": "074b0253",
   "metadata": {},
   "source": [
    "4. Найти предел \n",
    "\n",
    "$lim n→∞(√n^2 + n)  − n = ((√n^2 + n)-n) * ((√n^2 + n)+n) / ((√n^2 + n)-n)= \n",
    "((√n^2 + n)-n)^2 - ((√n^2 + n)+n)^2 / ((√n^2 + n)-n)= (n^2+n-n^2-(n^2+n+n^2)) / ((√n^2 + n)-n) = 0/((√n^2 + n)-n)=0$"
   ]
  },
  {
   "cell_type": "markdown",
   "id": "5cebd918",
   "metadata": {},
   "source": [
    "5. Вычислить \n",
    "\n",
    "$lim n→∞√n cos n / (n+1) = limn→∞√n * limn→∞ cos n / limn→∞ (n+1) = √n * 0 / (n+1) =  0$"
   ]
  },
  {
   "cell_type": "code",
   "execution_count": null,
   "id": "fd887876",
   "metadata": {},
   "outputs": [],
   "source": []
  }
 ],
 "metadata": {
  "kernelspec": {
   "display_name": "Python 3 (ipykernel)",
   "language": "python",
   "name": "python3"
  },
  "language_info": {
   "codemirror_mode": {
    "name": "ipython",
    "version": 3
   },
   "file_extension": ".py",
   "mimetype": "text/x-python",
   "name": "python",
   "nbconvert_exporter": "python",
   "pygments_lexer": "ipython3",
   "version": "3.9.12"
  }
 },
 "nbformat": 4,
 "nbformat_minor": 5
}

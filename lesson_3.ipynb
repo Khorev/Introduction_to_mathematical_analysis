{
 "cells": [
  {
   "cell_type": "code",
   "execution_count": 1,
   "metadata": {
    "id": "B3JyUqwWObTT"
   },
   "outputs": [],
   "source": [
    "from math import factorial, sqrt\n",
    "import sympy\n",
    "import math"
   ]
  },
  {
   "cell_type": "code",
   "execution_count": 2,
   "metadata": {
    "id": "b4kIQsxDPYAm"
   },
   "outputs": [],
   "source": [
    "def function(n):\n",
    "  return n/(factorial(n)**(1/n))"
   ]
  },
  {
   "cell_type": "code",
   "execution_count": 3,
   "metadata": {
    "id": "3OevefJIH8OJ"
   },
   "outputs": [],
   "source": [
    "def function_s(n):\n",
    "  return n/(sympy.factorial(n)**(1/n))"
   ]
  },
  {
   "cell_type": "markdown",
   "metadata": {
    "id": "9CSJGeOaKwWN"
   },
   "source": [
    "### Решаем \"в лоб\""
   ]
  },
  {
   "cell_type": "code",
   "execution_count": 4,
   "metadata": {
    "id": "Z8rW-vMfOg04"
   },
   "outputs": [],
   "source": [
    "epsilon = 10e-7\n",
    "delta = 1\n",
    "n = 1\n",
    "curr = function(1)\n",
    "step = 50"
   ]
  },
  {
   "cell_type": "code",
   "execution_count": 5,
   "metadata": {
    "colab": {
     "base_uri": "https://localhost:8080/",
     "height": 436
    },
    "id": "UygIBr2aOhO8",
    "outputId": "bb8f279f-b7b3-45d6-b240-949b454ea096"
   },
   "outputs": [
    {
     "name": "stdout",
     "output_type": "stream",
     "text": [
      "51 0.4142135623730949\n",
      "Текущее значение предела: 1.414213562373095\n",
      "101 1.15681119807808\n",
      "Текущее значение предела: 2.571024760451175\n",
      "151 0.06246890251100812\n",
      "Текущее значение предела: 2.633493662962183\n",
      "201 0.024109957325484377\n",
      "Текущее значение предела: 2.6576036202876674\n"
     ]
    },
    {
     "ename": "OverflowError",
     "evalue": "int too large to convert to float",
     "output_type": "error",
     "traceback": [
      "\u001b[1;31m---------------------------------------------------------------------------\u001b[0m",
      "\u001b[1;31mOverflowError\u001b[0m                             Traceback (most recent call last)",
      "Input \u001b[1;32mIn [5]\u001b[0m, in \u001b[0;36m<cell line: 1>\u001b[1;34m()\u001b[0m\n\u001b[0;32m      1\u001b[0m \u001b[38;5;28;01mwhile\u001b[39;00m delta \u001b[38;5;241m>\u001b[39m epsilon:\n\u001b[1;32m----> 2\u001b[0m   \u001b[38;5;28mnext\u001b[39m \u001b[38;5;241m=\u001b[39m \u001b[43mfunction\u001b[49m\u001b[43m(\u001b[49m\u001b[43mn\u001b[49m\u001b[38;5;241;43m+\u001b[39;49m\u001b[38;5;241;43m1\u001b[39;49m\u001b[43m)\u001b[49m\n\u001b[0;32m      3\u001b[0m   delta \u001b[38;5;241m=\u001b[39m \u001b[38;5;28mabs\u001b[39m(curr \u001b[38;5;241m-\u001b[39m \u001b[38;5;28mnext\u001b[39m)\n\u001b[0;32m      4\u001b[0m   curr \u001b[38;5;241m=\u001b[39m \u001b[38;5;28mnext\u001b[39m\n",
      "Input \u001b[1;32mIn [2]\u001b[0m, in \u001b[0;36mfunction\u001b[1;34m(n)\u001b[0m\n\u001b[0;32m      1\u001b[0m \u001b[38;5;28;01mdef\u001b[39;00m \u001b[38;5;21mfunction\u001b[39m(n):\n\u001b[1;32m----> 2\u001b[0m   \u001b[38;5;28;01mreturn\u001b[39;00m n\u001b[38;5;241m/\u001b[39m(\u001b[43mfactorial\u001b[49m\u001b[43m(\u001b[49m\u001b[43mn\u001b[49m\u001b[43m)\u001b[49m\u001b[38;5;241;43m*\u001b[39;49m\u001b[38;5;241;43m*\u001b[39;49m\u001b[43m(\u001b[49m\u001b[38;5;241;43m1\u001b[39;49m\u001b[38;5;241;43m/\u001b[39;49m\u001b[43mn\u001b[49m\u001b[43m)\u001b[49m)\n",
      "\u001b[1;31mOverflowError\u001b[0m: int too large to convert to float"
     ]
    }
   ],
   "source": [
    "while delta > epsilon:\n",
    "  next = function(n+1)\n",
    "  delta = abs(curr - next)\n",
    "  curr = next\n",
    "  n += step\n",
    "  print(n, delta)\n",
    "  print(f\"Текущее значение предела: {curr}\")"
   ]
  },
  {
   "cell_type": "markdown",
   "metadata": {
    "id": "dF9oLCS0LMWU"
   },
   "source": [
    "### Используем SymPy для факториала"
   ]
  },
  {
   "cell_type": "code",
   "execution_count": 6,
   "metadata": {
    "id": "OKTs_e4nKvKL"
   },
   "outputs": [],
   "source": [
    "epsilon = 10e-7\n",
    "delta = 1\n",
    "n = 1\n",
    "curr = function(1)\n",
    "step = 1"
   ]
  },
  {
   "cell_type": "code",
   "execution_count": 7,
   "metadata": {
    "colab": {
     "base_uri": "https://localhost:8080/"
    },
    "id": "fkMqWSq0I5Kq",
    "outputId": "89ccbb88-b8a1-4480-c07f-6c3d9d7be4ad"
   },
   "outputs": [
    {
     "name": "stdout",
     "output_type": "stream",
     "text": [
      "CPU times: total: 750 ms\n",
      "Wall time: 4.08 s\n"
     ]
    }
   ],
   "source": [
    "%%time\n",
    "while delta > epsilon:\n",
    "  next = function_s(n+1)\n",
    "  delta = abs(curr - next)\n",
    "  curr = next\n",
    "  n += step"
   ]
  },
  {
   "cell_type": "code",
   "execution_count": 8,
   "metadata": {
    "colab": {
     "base_uri": "https://localhost:8080/"
    },
    "id": "0xbavA6SJAk6",
    "outputId": "f7b568cd-3ed2-475d-a671-f46b946c64e9"
   },
   "outputs": [
    {
     "name": "stdout",
     "output_type": "stream",
     "text": [
      "3495 9.99923936539915e-7\n",
      "Текущее значение предела: 2.71439695339699\n"
     ]
    }
   ],
   "source": [
    "print(n, delta)\n",
    "print(f\"Текущее значение предела: {curr}\")"
   ]
  },
  {
   "cell_type": "markdown",
   "metadata": {
    "id": "gpNIikdCLRM8"
   },
   "source": [
    "### Используем теорему Штольца"
   ]
  },
  {
   "cell_type": "code",
   "execution_count": 9,
   "metadata": {
    "id": "eYtqQ9EwSKmI"
   },
   "outputs": [],
   "source": [
    "def stolz_theorem(n):\n",
    "  return 1/(sympy.factorial(n)**(1/n)-sympy.factorial(n-1)**(1/(n-1)))"
   ]
  },
  {
   "cell_type": "code",
   "execution_count": 10,
   "metadata": {
    "colab": {
     "base_uri": "https://localhost:8080/",
     "height": 232
    },
    "id": "zkY-nAZaGSOI",
    "outputId": "5ac93cc4-75c3-44c2-ee47-1599d961ef89"
   },
   "outputs": [
    {
     "ename": "ZeroDivisionError",
     "evalue": "division by zero",
     "output_type": "error",
     "traceback": [
      "\u001b[1;31m---------------------------------------------------------------------------\u001b[0m",
      "\u001b[1;31mZeroDivisionError\u001b[0m                         Traceback (most recent call last)",
      "Input \u001b[1;32mIn [10]\u001b[0m, in \u001b[0;36m<cell line: 1>\u001b[1;34m()\u001b[0m\n\u001b[1;32m----> 1\u001b[0m \u001b[43mstolz_theorem\u001b[49m\u001b[43m(\u001b[49m\u001b[38;5;241;43m1\u001b[39;49m\u001b[43m)\u001b[49m\n",
      "Input \u001b[1;32mIn [9]\u001b[0m, in \u001b[0;36mstolz_theorem\u001b[1;34m(n)\u001b[0m\n\u001b[0;32m      1\u001b[0m \u001b[38;5;28;01mdef\u001b[39;00m \u001b[38;5;21mstolz_theorem\u001b[39m(n):\n\u001b[1;32m----> 2\u001b[0m   \u001b[38;5;28;01mreturn\u001b[39;00m \u001b[38;5;241m1\u001b[39m\u001b[38;5;241m/\u001b[39m(sympy\u001b[38;5;241m.\u001b[39mfactorial(n)\u001b[38;5;241m*\u001b[39m\u001b[38;5;241m*\u001b[39m(\u001b[38;5;241m1\u001b[39m\u001b[38;5;241m/\u001b[39mn)\u001b[38;5;241m-\u001b[39msympy\u001b[38;5;241m.\u001b[39mfactorial(n\u001b[38;5;241m-\u001b[39m\u001b[38;5;241m1\u001b[39m)\u001b[38;5;241m*\u001b[39m\u001b[38;5;241m*\u001b[39m(\u001b[38;5;241;43m1\u001b[39;49m\u001b[38;5;241;43m/\u001b[39;49m\u001b[43m(\u001b[49m\u001b[43mn\u001b[49m\u001b[38;5;241;43m-\u001b[39;49m\u001b[38;5;241;43m1\u001b[39;49m\u001b[43m)\u001b[49m))\n",
      "\u001b[1;31mZeroDivisionError\u001b[0m: division by zero"
     ]
    }
   ],
   "source": [
    "stolz_theorem(1)"
   ]
  },
  {
   "cell_type": "code",
   "execution_count": 11,
   "metadata": {
    "id": "Geq-ln7uSKXs"
   },
   "outputs": [],
   "source": [
    "epsilon = 10e-7\n",
    "delta = 1\n",
    "n = 2\n",
    "curr = stolz_theorem(2)\n",
    "step = 1"
   ]
  },
  {
   "cell_type": "code",
   "execution_count": 12,
   "metadata": {
    "colab": {
     "base_uri": "https://localhost:8080/"
    },
    "id": "5xQ4jSGuIvy-",
    "outputId": "cbc5756c-441d-46de-8cd9-5c5a53e4924a"
   },
   "outputs": [
    {
     "name": "stdout",
     "output_type": "stream",
     "text": [
      "CPU times: total: 281 ms\n",
      "Wall time: 793 ms\n"
     ]
    }
   ],
   "source": [
    "%%time\n",
    "while delta > epsilon:\n",
    "  next = stolz_theorem(n+1)\n",
    "  delta = abs(curr - next)\n",
    "  curr = next\n",
    "  n += step"
   ]
  },
  {
   "cell_type": "code",
   "execution_count": 13,
   "metadata": {
    "colab": {
     "base_uri": "https://localhost:8080/"
    },
    "id": "54W51P4xIvnM",
    "outputId": "55705c8b-3c4b-4c15-f72c-ed48e9264fb4"
   },
   "outputs": [
    {
     "name": "stdout",
     "output_type": "stream",
     "text": [
      "1153 9.99185107097844e-7\n",
      "Текущее значение предела: 2.71711890243040\n"
     ]
    }
   ],
   "source": [
    "print(n, delta)\n",
    "print(f\"Текущее значение предела: {curr}\")"
   ]
  },
  {
   "cell_type": "markdown",
   "metadata": {
    "id": "4ByHrVfTLXDk"
   },
   "source": [
    "### Используем формулу Стирлинга"
   ]
  },
  {
   "cell_type": "code",
   "execution_count": 14,
   "metadata": {
    "id": "_Qh7-ZvPJSzX"
   },
   "outputs": [],
   "source": [
    "e = math.exp(1)\n",
    "pi = math.pi"
   ]
  },
  {
   "cell_type": "code",
   "execution_count": 15,
   "metadata": {
    "id": "rk59SUpyJSt7"
   },
   "outputs": [],
   "source": [
    "def stirling(n):\n",
    "  return e/(2*pi*n)**(1/(2*n))"
   ]
  },
  {
   "cell_type": "code",
   "execution_count": 16,
   "metadata": {
    "id": "2pGcqFoAKWZ_"
   },
   "outputs": [],
   "source": [
    "epsilon = 10e-7\n",
    "delta = 1\n",
    "n = 1\n",
    "curr = stirling(1)\n",
    "step = 1"
   ]
  },
  {
   "cell_type": "code",
   "execution_count": 17,
   "metadata": {
    "colab": {
     "base_uri": "https://localhost:8080/"
    },
    "id": "jMY6z6zJKWU2",
    "outputId": "6cce7b5f-1cfe-45e6-83b9-9b0dff4706b8"
   },
   "outputs": [
    {
     "name": "stdout",
     "output_type": "stream",
     "text": [
      "CPU times: total: 0 ns\n",
      "Wall time: 2 ms\n"
     ]
    }
   ],
   "source": [
    "%%time\n",
    "while delta > epsilon:\n",
    "  next = stirling(n+1)\n",
    "  delta = abs(curr - next)\n",
    "  curr = next\n",
    "  n += step"
   ]
  },
  {
   "cell_type": "code",
   "execution_count": 18,
   "metadata": {
    "colab": {
     "base_uri": "https://localhost:8080/"
    },
    "id": "KkPsQXTMKWON",
    "outputId": "52063a03-7bd8-40d9-8f48-c2ca6ce02535"
   },
   "outputs": [
    {
     "name": "stdout",
     "output_type": "stream",
     "text": [
      "3495 9.999133441240815e-07\n",
      "Текущее значение предела: 2.714396971915147\n"
     ]
    }
   ],
   "source": [
    "print(n, delta)\n",
    "print(f\"Текущее значение предела: {curr}\")"
   ]
  },
  {
   "cell_type": "markdown",
   "metadata": {
    "id": "2-JtzAfjQODa"
   },
   "source": [
    "### Используем просто SymPy"
   ]
  },
  {
   "cell_type": "code",
   "execution_count": 19,
   "metadata": {
    "id": "w-HJzYOORaL-"
   },
   "outputs": [],
   "source": [
    "from sympy import limit, factorial, oo"
   ]
  },
  {
   "cell_type": "code",
   "execution_count": 20,
   "metadata": {
    "colab": {
     "base_uri": "https://localhost:8080/"
    },
    "id": "jgIWlhRzQMd3",
    "outputId": "6fd335a4-f3ec-4221-ee9d-05d442d5f11a"
   },
   "outputs": [
    {
     "name": "stdout",
     "output_type": "stream",
     "text": [
      "CPU times: total: 0 ns\n",
      "Wall time: 2 ms\n"
     ]
    },
    {
     "data": {
      "text/latex": [
       "$\\displaystyle 2.71439695339699$"
      ],
      "text/plain": [
       "2.71439695339699"
      ]
     },
     "execution_count": 20,
     "metadata": {},
     "output_type": "execute_result"
    }
   ],
   "source": [
    "%%time\n",
    "limit(n/(factorial(n)**(1/n)), n, oo)"
   ]
  },
  {
   "cell_type": "code",
   "execution_count": null,
   "metadata": {
    "id": "aPtslsOQRrKm"
   },
   "outputs": [],
   "source": [
    "е=2,718281828459045235360287..."
   ]
  }
 ],
 "metadata": {
  "colab": {
   "provenance": []
  },
  "kernelspec": {
   "display_name": "Python 3 (ipykernel)",
   "language": "python",
   "name": "python3"
  },
  "language_info": {
   "codemirror_mode": {
    "name": "ipython",
    "version": 3
   },
   "file_extension": ".py",
   "mimetype": "text/x-python",
   "name": "python",
   "nbconvert_exporter": "python",
   "pygments_lexer": "ipython3",
   "version": "3.9.12"
  }
 },
 "nbformat": 4,
 "nbformat_minor": 1
}

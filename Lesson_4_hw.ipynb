{
 "cells": [
  {
   "cell_type": "code",
   "execution_count": 1,
   "id": "438fff11",
   "metadata": {},
   "outputs": [],
   "source": [
    "import matplotlib.pyplot as plt\n",
    "import numpy as np\n",
    "import warnings\n",
    "\n",
    "warnings.filterwarnings('ignore')"
   ]
  },
  {
   "cell_type": "markdown",
   "id": "990b8187",
   "metadata": {},
   "source": [
    "# “Предел функции”"
   ]
  },
  {
   "cell_type": "markdown",
   "id": "ce743b18",
   "metadata": {},
   "source": [
    "## 1. Предложить пример функции, не имеющей предела в нуле и в бесконечностях."
   ]
  },
  {
   "cell_type": "markdown",
   "id": "a1188003",
   "metadata": {},
   "source": [
    "$\\displaystyle \\lim_{x \\to \\infty} f(x) = \\frac{1}{x^2 + 1} + 1$"
   ]
  },
  {
   "cell_type": "markdown",
   "id": "527ed4af",
   "metadata": {},
   "source": [
    "## 2. Привести пример функции, не имеющей предела в точке, но определенной в ней."
   ]
  },
  {
   "cell_type": "markdown",
   "id": "ffe8419f",
   "metadata": {},
   "source": [
    "$f(x) = (sin x) / x$"
   ]
  },
  {
   "cell_type": "markdown",
   "id": "04359004",
   "metadata": {},
   "source": [
    "## 3. Исследовать функцию $f(x) = x^3 - x^2$ по плану:"
   ]
  },
  {
   "cell_type": "code",
   "execution_count": 2,
   "id": "9233bc60",
   "metadata": {},
   "outputs": [],
   "source": [
    "def f(x):\n",
    "    '''Создаём посследовательность по f(x)'''\n",
    "    return x**3 - x**2"
   ]
  },
  {
   "cell_type": "code",
   "execution_count": 3,
   "id": "3080959f",
   "metadata": {},
   "outputs": [],
   "source": [
    "X = np.arange(-9, 10)"
   ]
  },
  {
   "cell_type": "code",
   "execution_count": 4,
   "id": "e45c41d8",
   "metadata": {},
   "outputs": [
    {
     "data": {
      "text/plain": [
       "{-9: -810,\n",
       " -8: -576,\n",
       " -7: -392,\n",
       " -6: -252,\n",
       " -5: -150,\n",
       " -4: -80,\n",
       " -3: -36,\n",
       " -2: -12,\n",
       " -1: -2,\n",
       " 0: 0,\n",
       " 1: 0,\n",
       " 2: 4,\n",
       " 3: 18,\n",
       " 4: 48,\n",
       " 5: 100,\n",
       " 6: 180,\n",
       " 7: 294,\n",
       " 8: 448,\n",
       " 9: 648}"
      ]
     },
     "execution_count": 4,
     "metadata": {},
     "output_type": "execute_result"
    }
   ],
   "source": [
    "sequence = {x: f(x) for x in X}\n",
    "sequence"
   ]
  },
  {
   "cell_type": "code",
   "execution_count": 5,
   "id": "0fa315d1",
   "metadata": {},
   "outputs": [],
   "source": [
    "def fraph(sequence):\n",
    "    '''рисует график'''\n",
    "    \n",
    "    x = list(sequence.keys())\n",
    "    y = list(sequence.values())\n",
    "\n",
    "    ax = plt.gca()\n",
    "    ax.axhline(y=0, color='lightgray')    \n",
    "    ax.axvline(x=0, color='lightgray')\n",
    "\n",
    "    plt.plot(x, y)"
   ]
  },
  {
   "cell_type": "code",
   "execution_count": 6,
   "id": "b3797ba5",
   "metadata": {},
   "outputs": [
    {
     "data": {
      "image/png": "[encoded data removed]",
      "text/plain": [
       "<Figure size 432x288 with 1 Axes>"
      ]
     },
     "metadata": {
      "needs_background": "light"
     },
     "output_type": "display_data"
    }
   ],
   "source": [
    "fraph(sequence)"
   ]
  },
  {
   "cell_type": "markdown",
   "id": "83fcc362",
   "metadata": {},
   "source": [
    "a. Область задания и область значений."
   ]
  },
  {
   "cell_type": "markdown",
   "id": "9dad5bea",
   "metadata": {},
   "source": [
    "$D(f) = (-\\infty, +\\infty)$"
   ]
  },
  {
   "cell_type": "markdown",
   "id": "b1b9cd85",
   "metadata": {},
   "source": [
    "$R(f) = (-\\infty, +\\infty$"
   ]
  },
  {
   "cell_type": "markdown",
   "id": "87d16e89",
   "metadata": {},
   "source": [
    "b. Нули функции и их кратность."
   ]
  },
  {
   "cell_type": "code",
   "execution_count": 7,
   "id": "f084a611",
   "metadata": {},
   "outputs": [],
   "source": [
    "def zeros(sequence):\n",
    "    '''Находит нули f(x)'''\n",
    "    \n",
    "    zeros = [r for r in sequence.items() if r[1] == 0]\n",
    "\n",
    "    return (f'Нули функции f(x) = 0:\\n'\n",
    "            f'\\tкратны {len(zeros)}м при:\\n'\n",
    "            f'\\t\\tx1 = {zeros[0][0]}\\n'\n",
    "            f'\\t\\tx2 = {zeros[1][0]}')"
   ]
  },
  {
   "cell_type": "code",
   "execution_count": 8,
   "id": "ccfa1ab1",
   "metadata": {},
   "outputs": [
    {
     "name": "stdout",
     "output_type": "stream",
     "text": [
      "Нули функции f(x) = 0:\n",
      "\tкратны 2м при:\n",
      "\t\tx1 = 0\n",
      "\t\tx2 = 1\n"
     ]
    }
   ],
   "source": [
    "print(zeros(sequence))"
   ]
  },
  {
   "cell_type": "markdown",
   "id": "a4b01120",
   "metadata": {},
   "source": [
    "c. Отрезки знакопостоянства."
   ]
  },
  {
   "cell_type": "markdown",
   "id": "02e3b0c4",
   "metadata": {},
   "source": [
    "$f(x) \\neq 0 : x = (-\\infty; -1], [2; +\\infty)$"
   ]
  },
  {
   "cell_type": "markdown",
   "id": "873181fa",
   "metadata": {},
   "source": [
    "d. Интервалы монотонности."
   ]
  },
  {
   "cell_type": "code",
   "execution_count": 9,
   "id": "d1f1a11c",
   "metadata": {},
   "outputs": [],
   "source": [
    "def monotone(sequence):\n",
    "    '''исследование монотонности'''\n",
    "    \n",
    "    result_list = list(sequence.items())\n",
    "    \n",
    "    for n in range(len(result_list)-1):\n",
    "        if result_list[n][1] < result_list[n+1][1]:\n",
    "            return 'Возрастает'\n",
    "        elif result_list[n][1] > result_list[n+1][1]:\n",
    "            return 'Убывает'\n",
    "        else: # result_list[n][1] == result_list[n+1][1]:\n",
    "            return 'Стационарная'"
   ]
  },
  {
   "cell_type": "code",
   "execution_count": 10,
   "id": "562f2f38",
   "metadata": {},
   "outputs": [
    {
     "data": {
      "text/plain": [
       "'Возрастает'"
      ]
     },
     "execution_count": 10,
     "metadata": {},
     "output_type": "execute_result"
    }
   ],
   "source": [
    "monotone(sequence)"
   ]
  },
  {
   "cell_type": "markdown",
   "id": "cff899fc",
   "metadata": {},
   "source": [
    "e. Четность функции."
   ]
  },
  {
   "cell_type": "code",
   "execution_count": 11,
   "id": "e80f725c",
   "metadata": {},
   "outputs": [],
   "source": [
    "def parity(sequence):\n",
    "    '''исследование четности'''\n",
    "    \n",
    "    least = min(sequence.keys())\n",
    "    greatest = max(sequence.keys())\n",
    "    \n",
    "    return 'Четное' if sequence[least] == sequence[greatest] else 'Не четная'"
   ]
  },
  {
   "cell_type": "code",
   "execution_count": 12,
   "id": "508d3ec6",
   "metadata": {},
   "outputs": [
    {
     "data": {
      "text/plain": [
       "'Не четная'"
      ]
     },
     "execution_count": 12,
     "metadata": {},
     "output_type": "execute_result"
    }
   ],
   "source": [
    "parity(sequence)"
   ]
  },
  {
   "cell_type": "markdown",
   "id": "21b381aa",
   "metadata": {},
   "source": [
    "f. Ограниченность."
   ]
  },
  {
   "cell_type": "code",
   "execution_count": 13,
   "id": "1408c6d9",
   "metadata": {},
   "outputs": [],
   "source": [
    "def limitation(sequence):\n",
    "    '''исследовангие ограниченности'''\n",
    "    \n",
    "    quantity = len(sequence)\n",
    "    least, greatest = min(range(quantity)), max(range(quantity))\n",
    "    values = list(sequence.values())\n",
    "    \n",
    "    if (min(values) == values[least]) and (max(values) == values[greatest]):\n",
    "        return 'Не ограничена сверху и снизу'\n",
    "    elif min(values) == values[least]:\n",
    "        return 'Не ограничена снизу'\n",
    "    elif max(values) == values[greatest]:\n",
    "        return 'Не ограничена сверху'\n",
    "    else:\n",
    "        return 'Ограничена сверху и снизу'"
   ]
  },
  {
   "cell_type": "code",
   "execution_count": 14,
   "id": "4169d9b6",
   "metadata": {},
   "outputs": [
    {
     "data": {
      "text/plain": [
       "'Не ограничена сверху и снизу'"
      ]
     },
     "execution_count": 14,
     "metadata": {},
     "output_type": "execute_result"
    }
   ],
   "source": [
    "limitation(sequence)"
   ]
  },
  {
   "cell_type": "markdown",
   "id": "7c23b030",
   "metadata": {},
   "source": [
    "g. Периодичность."
   ]
  },
  {
   "cell_type": "code",
   "execution_count": 15,
   "id": "c8739b03",
   "metadata": {},
   "outputs": [],
   "source": [
    "def periodicity(sequence):\n",
    "    '''исследование периодичности'''\n",
    "    \n",
    "    values = list(sequence.values())\n",
    "    quantity = len(sequence)\n",
    "    \n",
    "    for n in range(quantity):\n",
    "        val, next_val = values[n], values[n+1]\n",
    "        count = values.count(val)\n",
    "        \n",
    "        return 'Периодична' if count > 1 and (val != next_val) else 'Не периодична'"
   ]
  },
  {
   "cell_type": "code",
   "execution_count": 16,
   "id": "0d979270",
   "metadata": {},
   "outputs": [
    {
     "data": {
      "text/plain": [
       "'Не периодична'"
      ]
     },
     "execution_count": 16,
     "metadata": {},
     "output_type": "execute_result"
    }
   ],
   "source": [
    "periodicity(sequence)"
   ]
  },
  {
   "cell_type": "markdown",
   "id": "52946deb",
   "metadata": {},
   "source": [
    "## 4. Найти предел:"
   ]
  },
  {
   "cell_type": "markdown",
   "id": "8b641b3c",
   "metadata": {},
   "source": [
    "$a. \\displaystyle \\lim_{x \\to 0} \\frac{3x^3 - 2x^2}{4x^2} = \\frac{x^2(3x - 2)}{4x^2} = \\frac{3x-2}{4} = -\\frac{1}{2}$"
   ]
  },
  {
   "cell_type": "markdown",
   "id": "0f1b9143",
   "metadata": {},
   "source": [
    "$b. \\star \\displaystyle \\lim_{x\\to0} \\frac{\\sqrt{1+x} - 1}{\\sqrt[3]{1+x} - 1} = \\frac{\\sqrt{1} - 1}{\\sqrt[3]{1} - 1} = \\frac{0}{0} = 1$"
   ]
  },
  {
   "cell_type": "markdown",
   "id": "095c90f1",
   "metadata": {},
   "source": [
    "$c. \\star \\displaystyle \\lim_{x\\to\\infty} \\left( \\frac{x+3}{x} \\right)^{4x+1} = \\left( \\frac{\\infty+3}{\\infty} \\right)^\\infty = \\infty$"
   ]
  },
  {
   "cell_type": "markdown",
   "id": "304d1556",
   "metadata": {},
   "source": [
    "# Тема “Теоремы о пределах”"
   ]
  },
  {
   "cell_type": "markdown",
   "id": "b54b3045",
   "metadata": {},
   "source": [
    "$a. \\displaystyle \\lim_{x\\to 0} \\frac{\\sin(2x)}{4x} = 0,5$"
   ]
  },
  {
   "cell_type": "markdown",
   "id": "a9a6a677",
   "metadata": {},
   "source": [
    "$b. \\displaystyle \\lim_{x\\to0} \\frac{x}{\\sin(x)} = 1$"
   ]
  },
  {
   "cell_type": "markdown",
   "id": "d976f92a",
   "metadata": {},
   "source": [
    "$c. \\displaystyle \\lim_{x\\to0} \\frac{x}{\\arcsin(x)} = |t=\\sin(x)| = \\displaystyle \\lim_{x\\to0} \\frac{\\sin(t)}{t} = \\displaystyle \\lim_{x\\to0} \\frac{\\frac{\\sin(t)}{t}}{1} = \\frac{1}{1} = 1$"
   ]
  },
  {
   "cell_type": "markdown",
   "id": "4dd3583b",
   "metadata": {},
   "source": [
    "$d. \\displaystyle \\lim_{x\\to\\infty} \\left( \\frac{4x+3}{4x-3} \\right)^{6x} = -1^{6x} = 1$"
   ]
  },
  {
   "cell_type": "code",
   "execution_count": null,
   "id": "56149b1a",
   "metadata": {},
   "outputs": [],
   "source": []
  }
 ],
 "metadata": {
  "kernelspec": {
   "display_name": "Python 3 (ipykernel)",
   "language": "python",
   "name": "python3"
  },
  "language_info": {
   "codemirror_mode": {
    "name": "ipython",
    "version": 3
   },
   "file_extension": ".py",
   "mimetype": "text/x-python",
   "name": "python",
   "nbconvert_exporter": "python",
   "pygments_lexer": "ipython3",
   "version": "3.9.12"
  }
 },
 "nbformat": 4,
 "nbformat_minor": 5
}
